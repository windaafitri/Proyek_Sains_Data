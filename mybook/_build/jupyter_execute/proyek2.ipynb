{
 "cells": [
  {
   "cell_type": "markdown",
   "id": "2e12481f",
   "metadata": {},
   "source": [
    "# Laporan Proyek 2\n",
    "\n",
    "## Prediksi Harga Minyak Per-Minggu Menggunakan Data Historis Time Series\n",
    "\n",
    "## Pendahuluan\n",
    "\n",
    "## Latar Belakang\n",
    "Harga minyak goreng merupakan salah satu faktor penting dalam sektor rumah tangga dan industri makanan. Perubahan harga yang tidak menentu dapat memengaruhi daya beli masyarakat, biaya produksi, serta stabilitas pasar. Oleh karena itu, diperlukan model prediksi yang mampu membantu mengantisipasi perubahan harga minyak goreng.\n",
    "\n",
    "## Tujuan Proyek\n",
    "Proyek ini bertujuan untuk membangun model prediksi berbasis data historis time series yang dapat menghasilkan estimasi harga minyak goreng secara akurat. Model ini diharapkan mampu:\n",
    "\n",
    "- Mendukung para pelaku usaha, pemerintah, dan konsumen dalam merencanakan keputusan terkait pembelian, distribusi, maupun stok minyak goreng.\n",
    "- Menyediakan panduan strategis untuk merancang kebijakan yang bertujuan menjaga kestabilan harga minyak goreng di pasar.\n",
    "\n",
    "## Rumusan Masalah\n",
    "- Apa saja langkah yang diperlukan untuk mengembangkan model prediksi harga minyak goreng dengan tingkat akurasi yang tinggi?\n",
    "- Bagaimana prediksi harga minyak goreng dapat dimanfaatkan untuk mendukung pengambilan keputusan yang lebih strategis dan meminimalkan dampak negatif perubahan harga?\n",
    "\n",
    "## Metodologi\n",
    "\n",
    "## Data Understanding\n",
    "a. Sumber Data \n",
    "Data yang digunakan dalam proyek ini diperoleh dari situs Pusat Informasi Harga Pangan Strategis Nasional https://www.bi.go.id/hargapangan/TabelHarga/PasarTradisionalDaerah. Situs ini menyediakan informasi harga bahan pangan, termasuk harga minyak goreng, berdasarkan wilayah di Indonesia.\n",
    "\n",
    "Dalam proyek ini, data historis harga minyak goreng dari berbagai daerah dikumpulkan untuk periode tertentu. Data tersebut telah diunduh dalam format xlsx yang digunakan mulai dari tanggal 01 Januari 2020 hingga 25 September 2024. Data ini menjadi dasar untuk mengembangkan model prediksi berbasis metode machine learning guna memahami tren harga minyak goreng di berbagai wilayah.\n",
    "\n",
    "Tampilan dari data harga minyak:\n",
    "\n",
    "## Project\n",
    "\n",
    "## Read Data"
   ]
  },
  {
   "cell_type": "code",
   "execution_count": 1,
   "id": "886f2069",
   "metadata": {},
   "outputs": [
    {
     "name": "stdout",
     "output_type": "stream",
     "text": [
      "Note: you may need to restart the kernel to use updated packages.Requirement already satisfied: seaborn in c:\\laragon\\bin\\python\\python-3.10\\lib\\site-packages (0.13.2)\n",
      "Requirement already satisfied: numpy!=1.24.0,>=1.20 in c:\\laragon\\bin\\python\\python-3.10\\lib\\site-packages (from seaborn) (1.26.4)\n",
      "Requirement already satisfied: pandas>=1.2 in c:\\laragon\\bin\\python\\python-3.10\\lib\\site-packages (from seaborn) (2.2.2)\n",
      "Requirement already satisfied: matplotlib!=3.6.1,>=3.4 in c:\\laragon\\bin\\python\\python-3.10\\lib\\site-packages (from seaborn) (3.9.0)\n",
      "Requirement already satisfied: contourpy>=1.0.1 in c:\\laragon\\bin\\python\\python-3.10\\lib\\site-packages (from matplotlib!=3.6.1,>=3.4->seaborn) (1.2.1)\n",
      "Requirement already satisfied: cycler>=0.10 in c:\\laragon\\bin\\python\\python-3.10\\lib\\site-packages (from matplotlib!=3.6.1,>=3.4->seaborn) (0.12.1)\n",
      "Requirement already satisfied: fonttools>=4.22.0 in c:\\laragon\\bin\\python\\python-3.10\\lib\\site-packages (from matplotlib!=3.6.1,>=3.4->seaborn) (4.53.0)\n",
      "Requirement already satisfied: kiwisolver>=1.3.1 in c:\\laragon\\bin\\python\\python-3.10\\lib\\site-packages (from matplotlib!=3.6.1,>=3.4->seaborn) (1.4.5)\n",
      "Requirement already satisfied: packaging>=20.0 in c:\\laragon\\bin\\python\\python-3.10\\lib\\site-packages (from matplotlib!=3.6.1,>=3.4->seaborn) (24.0)\n",
      "Requirement already satisfied: pillow>=8 in c:\\laragon\\bin\\python\\python-3.10\\lib\\site-packages (from matplotlib!=3.6.1,>=3.4->seaborn) (10.3.0)\n",
      "Requirement already satisfied: pyparsing>=2.3.1 in c:\\laragon\\bin\\python\\python-3.10\\lib\\site-packages (from matplotlib!=3.6.1,>=3.4->seaborn) (3.1.2)\n",
      "Requirement already satisfied: python-dateutil>=2.7 in c:\\laragon\\bin\\python\\python-3.10\\lib\\site-packages (from matplotlib!=3.6.1,>=3.4->seaborn) (2.9.0.post0)\n",
      "Requirement already satisfied: pytz>=2020.1 in c:\\laragon\\bin\\python\\python-3.10\\lib\\site-packages (from pandas>=1.2->seaborn) (2024.1)\n",
      "Requirement already satisfied: tzdata>=2022.7 in c:\\laragon\\bin\\python\\python-3.10\\lib\\site-packages (from pandas>=1.2->seaborn) (2024.1)\n",
      "Requirement already satisfied: six>=1.5 in c:\\laragon\\bin\\python\\python-3.10\\lib\\site-packages (from python-dateutil>=2.7->matplotlib!=3.6.1,>=3.4->seaborn) (1.16.0)\n",
      "\n"
     ]
    },
    {
     "name": "stderr",
     "output_type": "stream",
     "text": [
      "\n",
      "[notice] A new release of pip is available: 24.1 -> 24.3.1\n",
      "[notice] To update, run: python.exe -m pip install --upgrade pip\n"
     ]
    }
   ],
   "source": [
    "pip install seaborn"
   ]
  },
  {
   "cell_type": "markdown",
   "id": "0e6e65f2",
   "metadata": {},
   "source": [
    "With MyST Markdown, you can define code cells with a directive like so:"
   ]
  },
  {
   "cell_type": "code",
   "execution_count": 2,
   "id": "49baee11",
   "metadata": {},
   "outputs": [
    {
     "data": {
      "text/html": [
       "<div>\n",
       "<style scoped>\n",
       "    .dataframe tbody tr th:only-of-type {\n",
       "        vertical-align: middle;\n",
       "    }\n",
       "\n",
       "    .dataframe tbody tr th {\n",
       "        vertical-align: top;\n",
       "    }\n",
       "\n",
       "    .dataframe thead th {\n",
       "        text-align: right;\n",
       "    }\n",
       "</style>\n",
       "<table border=\"1\" class=\"dataframe\">\n",
       "  <thead>\n",
       "    <tr style=\"text-align: right;\">\n",
       "      <th></th>\n",
       "      <th>Tanggal</th>\n",
       "      <th>Harga</th>\n",
       "    </tr>\n",
       "  </thead>\n",
       "  <tbody>\n",
       "    <tr>\n",
       "      <th>0</th>\n",
       "      <td>01/ 01/ 2020</td>\n",
       "      <td>15,550</td>\n",
       "    </tr>\n",
       "    <tr>\n",
       "      <th>1</th>\n",
       "      <td>08/ 01/ 2020</td>\n",
       "      <td>15,500</td>\n",
       "    </tr>\n",
       "    <tr>\n",
       "      <th>2</th>\n",
       "      <td>15/ 01/ 2020</td>\n",
       "      <td>15,550</td>\n",
       "    </tr>\n",
       "    <tr>\n",
       "      <th>3</th>\n",
       "      <td>22/ 01/ 2020</td>\n",
       "      <td>15,600</td>\n",
       "    </tr>\n",
       "    <tr>\n",
       "      <th>4</th>\n",
       "      <td>29/ 01/ 2020</td>\n",
       "      <td>15,650</td>\n",
       "    </tr>\n",
       "    <tr>\n",
       "      <th>...</th>\n",
       "      <td>...</td>\n",
       "      <td>...</td>\n",
       "    </tr>\n",
       "    <tr>\n",
       "      <th>243</th>\n",
       "      <td>28/ 08/ 2024</td>\n",
       "      <td>21,100</td>\n",
       "    </tr>\n",
       "    <tr>\n",
       "      <th>244</th>\n",
       "      <td>04/ 09/ 2024</td>\n",
       "      <td>21,350</td>\n",
       "    </tr>\n",
       "    <tr>\n",
       "      <th>245</th>\n",
       "      <td>11/ 09/ 2024</td>\n",
       "      <td>21,300</td>\n",
       "    </tr>\n",
       "    <tr>\n",
       "      <th>246</th>\n",
       "      <td>18/ 09/ 2024</td>\n",
       "      <td>21,300</td>\n",
       "    </tr>\n",
       "    <tr>\n",
       "      <th>247</th>\n",
       "      <td>25/ 09/ 2024</td>\n",
       "      <td>21,100</td>\n",
       "    </tr>\n",
       "  </tbody>\n",
       "</table>\n",
       "<p>248 rows × 2 columns</p>\n",
       "</div>"
      ],
      "text/plain": [
       "          Tanggal   Harga\n",
       "0    01/ 01/ 2020  15,550\n",
       "1    08/ 01/ 2020  15,500\n",
       "2    15/ 01/ 2020  15,550\n",
       "3    22/ 01/ 2020  15,600\n",
       "4    29/ 01/ 2020  15,650\n",
       "..            ...     ...\n",
       "243  28/ 08/ 2024  21,100\n",
       "244  04/ 09/ 2024  21,350\n",
       "245  11/ 09/ 2024  21,300\n",
       "246  18/ 09/ 2024  21,300\n",
       "247  25/ 09/ 2024  21,100\n",
       "\n",
       "[248 rows x 2 columns]"
      ]
     },
     "execution_count": 2,
     "metadata": {},
     "output_type": "execute_result"
    }
   ],
   "source": [
    "import numpy as np\n",
    "import pandas as pd\n",
    "from sklearn.model_selection import train_test_split\n",
    "from sklearn.preprocessing import MinMaxScaler\n",
    "from sklearn.linear_model import LinearRegression\n",
    "from sklearn.ensemble import BaggingRegressor\n",
    "from sklearn.metrics import mean_squared_error\n",
    "import plotly.graph_objects as go\n",
    "import seaborn as sns\n",
    "import matplotlib.pyplot as plt\n",
    "import plotly.express as px\n",
    "\n",
    "#Mengambil dan menampilkan data\n",
    "df = pd.read_csv('https://raw.githubusercontent.com/windaafitri/dataset/refs/heads/main/harga_minyak.csv')\n",
    "df"
   ]
  },
  {
   "cell_type": "markdown",
   "id": "56d791aa",
   "metadata": {},
   "source": [
    "b. Deskripsi Dataset\n",
    "- Jumlah Fitur dan baris data:\n",
    "\n",
    "Dataset terdiri dari 2 fitur atau kolom dan 249 baris data.\n",
    "\n",
    "- Atribut dalam dataset:\n",
    "\n",
    "Tanggal: Kolom ini mencatat tanggal pengamatan harga minyak goreng dan menggunakan format seperti DD/MM/YYYY\n",
    "Harga: Kolom ini mencatat harga minyak goreng pada tanggal tertentu."
   ]
  },
  {
   "cell_type": "code",
   "execution_count": 3,
   "id": "21fe2ccc",
   "metadata": {},
   "outputs": [
    {
     "name": "stdout",
     "output_type": "stream",
     "text": [
      "              Harga\n",
      "Tanggal            \n",
      "2020-01-01  15550.0\n",
      "2020-01-08  15500.0\n",
      "2020-01-15  15550.0\n",
      "2020-01-22  15600.0\n",
      "2020-01-29  15650.0\n"
     ]
    }
   ],
   "source": [
    "# Pastikan kolom 'Date' dalam format datetime dengan dayfirst=True\n",
    "df['Tanggal'] = pd.to_datetime(df['Tanggal'], dayfirst=True, errors='coerce')\n",
    "\n",
    "# Mengatur kolom 'Date' sebagai indeks\n",
    "df.set_index('Tanggal', inplace=True)\n",
    "\n",
    "# Menghapus spasi dari kolom 'Harga', mengganti '-' dengan NaN, dan mengubahnya menjadi numeric\n",
    "df['Harga'] = df['Harga'].replace('-', np.nan).str.replace(',', '').astype(float)\n",
    "\n",
    "# Menampilkan 5 baris pertama untuk memastikan\n",
    "print(df.head())"
   ]
  },
  {
   "cell_type": "code",
   "execution_count": 4,
   "id": "b239390d",
   "metadata": {},
   "outputs": [
    {
     "data": {
      "text/plain": [
       "<Axes: xlabel='Tanggal'>"
      ]
     },
     "execution_count": 4,
     "metadata": {},
     "output_type": "execute_result"
    },
    {
     "data": {
      "image/png": "[encoded data removed]",
      "text/plain": [
       "<Figure size 640x480 with 1 Axes>"
      ]
     },
     "metadata": {},
     "output_type": "display_data"
    }
   ],
   "source": [
    "df.plot()"
   ]
  },
  {
   "cell_type": "code",
   "execution_count": 5,
   "id": "6acc4cea",
   "metadata": {},
   "outputs": [
    {
     "name": "stdout",
     "output_type": "stream",
     "text": [
      "<class 'pandas.core.frame.DataFrame'>\n",
      "DatetimeIndex: 248 entries, 2020-01-01 to 2024-09-25\n",
      "Data columns (total 1 columns):\n",
      " #   Column  Non-Null Count  Dtype  \n",
      "---  ------  --------------  -----  \n",
      " 0   Harga   248 non-null    float64\n",
      "dtypes: float64(1)\n",
      "memory usage: 3.9 KB\n",
      "Ukuran data  (248, 1)\n"
     ]
    }
   ],
   "source": [
    "df.info()\n",
    "print('Ukuran data ', df.shape)"
   ]
  },
  {
   "cell_type": "code",
   "execution_count": 6,
   "id": "156c3542",
   "metadata": {},
   "outputs": [
    {
     "data": {
      "text/plain": [
       "Harga    float64\n",
       "dtype: object"
      ]
     },
     "execution_count": 6,
     "metadata": {},
     "output_type": "execute_result"
    }
   ],
   "source": [
    "df.dtypes"
   ]
  },
  {
   "cell_type": "markdown",
   "id": "b4b4dc6d",
   "metadata": {},
   "source": [
    "## Eksplorasi Data"
   ]
  },
  {
   "cell_type": "code",
   "execution_count": 7,
   "id": "779609ec",
   "metadata": {},
   "outputs": [
    {
     "data": {
      "text/plain": [
       "Harga    0\n",
       "dtype: int64"
      ]
     },
     "execution_count": 7,
     "metadata": {},
     "output_type": "execute_result"
    }
   ],
   "source": [
    "# Mencari Missing Value\n",
    "df.isnull().sum()"
   ]
  },
  {
   "cell_type": "code",
   "execution_count": 8,
   "id": "f0b28e5d",
   "metadata": {},
   "outputs": [
    {
     "data": {
      "text/html": [
       "<div>\n",
       "<style scoped>\n",
       "    .dataframe tbody tr th:only-of-type {\n",
       "        vertical-align: middle;\n",
       "    }\n",
       "\n",
       "    .dataframe tbody tr th {\n",
       "        vertical-align: top;\n",
       "    }\n",
       "\n",
       "    .dataframe thead th {\n",
       "        text-align: right;\n",
       "    }\n",
       "</style>\n",
       "<table border=\"1\" class=\"dataframe\">\n",
       "  <thead>\n",
       "    <tr style=\"text-align: right;\">\n",
       "      <th></th>\n",
       "      <th>Harga</th>\n",
       "    </tr>\n",
       "  </thead>\n",
       "  <tbody>\n",
       "    <tr>\n",
       "      <th>count</th>\n",
       "      <td>248.000000</td>\n",
       "    </tr>\n",
       "    <tr>\n",
       "      <th>mean</th>\n",
       "      <td>20019.153226</td>\n",
       "    </tr>\n",
       "    <tr>\n",
       "      <th>std</th>\n",
       "      <td>3397.558973</td>\n",
       "    </tr>\n",
       "    <tr>\n",
       "      <th>min</th>\n",
       "      <td>15500.000000</td>\n",
       "    </tr>\n",
       "    <tr>\n",
       "      <th>25%</th>\n",
       "      <td>16350.000000</td>\n",
       "    </tr>\n",
       "    <tr>\n",
       "      <th>50%</th>\n",
       "      <td>21350.000000</td>\n",
       "    </tr>\n",
       "    <tr>\n",
       "      <th>75%</th>\n",
       "      <td>22700.000000</td>\n",
       "    </tr>\n",
       "    <tr>\n",
       "      <th>max</th>\n",
       "      <td>26450.000000</td>\n",
       "    </tr>\n",
       "  </tbody>\n",
       "</table>\n",
       "</div>"
      ],
      "text/plain": [
       "              Harga\n",
       "count    248.000000\n",
       "mean   20019.153226\n",
       "std     3397.558973\n",
       "min    15500.000000\n",
       "25%    16350.000000\n",
       "50%    21350.000000\n",
       "75%    22700.000000\n",
       "max    26450.000000"
      ]
     },
     "execution_count": 8,
     "metadata": {},
     "output_type": "execute_result"
    }
   ],
   "source": [
    "# Deskripsi Statistik\n",
    "df.describe()"
   ]
  },
  {
   "cell_type": "markdown",
   "id": "106aeff5",
   "metadata": {},
   "source": [
    "## Preprocessing Data\n",
    "\n",
    "## Sliding Windows\n",
    "Di sini dilakukan proses sliding windows dengan tujuan untuk menambah fitur dari nilai historis kurs(lag) ke dalam dataset."
   ]
  },
  {
   "cell_type": "code",
   "execution_count": 9,
   "id": "c5443d1f",
   "metadata": {},
   "outputs": [
    {
     "data": {
      "text/html": [
       "<div>\n",
       "<style scoped>\n",
       "    .dataframe tbody tr th:only-of-type {\n",
       "        vertical-align: middle;\n",
       "    }\n",
       "\n",
       "    .dataframe tbody tr th {\n",
       "        vertical-align: top;\n",
       "    }\n",
       "\n",
       "    .dataframe thead th {\n",
       "        text-align: right;\n",
       "    }\n",
       "</style>\n",
       "<table border=\"1\" class=\"dataframe\">\n",
       "  <thead>\n",
       "    <tr style=\"text-align: right;\">\n",
       "      <th></th>\n",
       "      <th>Harga-4</th>\n",
       "      <th>Harga-3</th>\n",
       "      <th>Harga-2</th>\n",
       "      <th>Harga-1</th>\n",
       "      <th>Harga</th>\n",
       "    </tr>\n",
       "    <tr>\n",
       "      <th>Tanggal</th>\n",
       "      <th></th>\n",
       "      <th></th>\n",
       "      <th></th>\n",
       "      <th></th>\n",
       "      <th></th>\n",
       "    </tr>\n",
       "  </thead>\n",
       "  <tbody>\n",
       "    <tr>\n",
       "      <th>2020-01-29</th>\n",
       "      <td>15550.0</td>\n",
       "      <td>15500.0</td>\n",
       "      <td>15550.0</td>\n",
       "      <td>15600.0</td>\n",
       "      <td>15650.0</td>\n",
       "    </tr>\n",
       "    <tr>\n",
       "      <th>2020-02-05</th>\n",
       "      <td>15500.0</td>\n",
       "      <td>15550.0</td>\n",
       "      <td>15600.0</td>\n",
       "      <td>15650.0</td>\n",
       "      <td>15750.0</td>\n",
       "    </tr>\n",
       "    <tr>\n",
       "      <th>2020-02-12</th>\n",
       "      <td>15550.0</td>\n",
       "      <td>15600.0</td>\n",
       "      <td>15650.0</td>\n",
       "      <td>15750.0</td>\n",
       "      <td>15800.0</td>\n",
       "    </tr>\n",
       "    <tr>\n",
       "      <th>2020-02-19</th>\n",
       "      <td>15600.0</td>\n",
       "      <td>15650.0</td>\n",
       "      <td>15750.0</td>\n",
       "      <td>15800.0</td>\n",
       "      <td>15850.0</td>\n",
       "    </tr>\n",
       "    <tr>\n",
       "      <th>2020-02-26</th>\n",
       "      <td>15650.0</td>\n",
       "      <td>15750.0</td>\n",
       "      <td>15800.0</td>\n",
       "      <td>15850.0</td>\n",
       "      <td>16050.0</td>\n",
       "    </tr>\n",
       "  </tbody>\n",
       "</table>\n",
       "</div>"
      ],
      "text/plain": [
       "            Harga-4  Harga-3  Harga-2  Harga-1    Harga\n",
       "Tanggal                                                \n",
       "2020-01-29  15550.0  15500.0  15550.0  15600.0  15650.0\n",
       "2020-02-05  15500.0  15550.0  15600.0  15650.0  15750.0\n",
       "2020-02-12  15550.0  15600.0  15650.0  15750.0  15800.0\n",
       "2020-02-19  15600.0  15650.0  15750.0  15800.0  15850.0\n",
       "2020-02-26  15650.0  15750.0  15800.0  15850.0  16050.0"
      ]
     },
     "execution_count": 9,
     "metadata": {},
     "output_type": "execute_result"
    }
   ],
   "source": [
    "def create_lag_features(df, column_name, num_lags):\n",
    "\n",
    "    # Buat fitur lag untuk jumlah lag yang diinginkan\n",
    "    for lag in range(1, num_lags + 1):\n",
    "        df[f'{column_name}-{lag}'] = df[column_name].shift(lag)\n",
    "\n",
    "    # Hapus baris yang memiliki nilai NaN setelah pembuatan lag\n",
    "    df.dropna(inplace=True)\n",
    "\n",
    "    # Mengatur ulang kolom sehingga kolom asli berada di posisi terakhir\n",
    "    lag_columns = [f'{column_name}-{lag}' for lag in range(num_lags, 0, -1)] + [column_name]\n",
    "    df = df[lag_columns]\n",
    "\n",
    "    return df\n",
    "\n",
    "# Contoh penggunaan\n",
    "num_lags = 4  # Tentukan berapa banyak lag yang diinginkan\n",
    "df_lagged = create_lag_features(df, 'Harga', num_lags)\n",
    "\n",
    "# Menampilkan 5 baris pertama untuk memastikan fitur lag telah ditambahkan\n",
    "df_lagged.head()"
   ]
  },
  {
   "cell_type": "markdown",
   "id": "572c2f1e",
   "metadata": {},
   "source": [
    "## Normalisasi Data"
   ]
  },
  {
   "cell_type": "code",
   "execution_count": 10,
   "id": "d2d86046",
   "metadata": {},
   "outputs": [
    {
     "data": {
      "text/html": [
       "<div>\n",
       "<style scoped>\n",
       "    .dataframe tbody tr th:only-of-type {\n",
       "        vertical-align: middle;\n",
       "    }\n",
       "\n",
       "    .dataframe tbody tr th {\n",
       "        vertical-align: top;\n",
       "    }\n",
       "\n",
       "    .dataframe thead th {\n",
       "        text-align: right;\n",
       "    }\n",
       "</style>\n",
       "<table border=\"1\" class=\"dataframe\">\n",
       "  <thead>\n",
       "    <tr style=\"text-align: right;\">\n",
       "      <th></th>\n",
       "      <th>Harga-4</th>\n",
       "      <th>Harga-3</th>\n",
       "      <th>Harga-2</th>\n",
       "      <th>Harga-1</th>\n",
       "      <th>Harga</th>\n",
       "    </tr>\n",
       "    <tr>\n",
       "      <th>Tanggal</th>\n",
       "      <th></th>\n",
       "      <th></th>\n",
       "      <th></th>\n",
       "      <th></th>\n",
       "      <th></th>\n",
       "    </tr>\n",
       "  </thead>\n",
       "  <tbody>\n",
       "    <tr>\n",
       "      <th>2020-02-26</th>\n",
       "      <td>0.000000</td>\n",
       "      <td>0.000000</td>\n",
       "      <td>0.000000</td>\n",
       "      <td>0.004695</td>\n",
       "      <td>0.023474</td>\n",
       "    </tr>\n",
       "    <tr>\n",
       "      <th>2020-03-04</th>\n",
       "      <td>0.009259</td>\n",
       "      <td>0.004673</td>\n",
       "      <td>0.004695</td>\n",
       "      <td>0.023474</td>\n",
       "      <td>0.018779</td>\n",
       "    </tr>\n",
       "    <tr>\n",
       "      <th>2020-03-11</th>\n",
       "      <td>0.013889</td>\n",
       "      <td>0.009346</td>\n",
       "      <td>0.023474</td>\n",
       "      <td>0.018779</td>\n",
       "      <td>0.023474</td>\n",
       "    </tr>\n",
       "    <tr>\n",
       "      <th>2020-03-18</th>\n",
       "      <td>0.018519</td>\n",
       "      <td>0.028037</td>\n",
       "      <td>0.018779</td>\n",
       "      <td>0.023474</td>\n",
       "      <td>0.028169</td>\n",
       "    </tr>\n",
       "    <tr>\n",
       "      <th>2020-03-25</th>\n",
       "      <td>0.037037</td>\n",
       "      <td>0.023364</td>\n",
       "      <td>0.023474</td>\n",
       "      <td>0.028169</td>\n",
       "      <td>0.032864</td>\n",
       "    </tr>\n",
       "  </tbody>\n",
       "</table>\n",
       "</div>"
      ],
      "text/plain": [
       "             Harga-4   Harga-3   Harga-2   Harga-1     Harga\n",
       "Tanggal                                                     \n",
       "2020-02-26  0.000000  0.000000  0.000000  0.004695  0.023474\n",
       "2020-03-04  0.009259  0.004673  0.004695  0.023474  0.018779\n",
       "2020-03-11  0.013889  0.009346  0.023474  0.018779  0.023474\n",
       "2020-03-18  0.018519  0.028037  0.018779  0.023474  0.028169\n",
       "2020-03-25  0.037037  0.023364  0.023474  0.028169  0.032864"
      ]
     },
     "execution_count": 10,
     "metadata": {},
     "output_type": "execute_result"
    }
   ],
   "source": [
    "import pandas as pd\n",
    "from sklearn.preprocessing import MinMaxScaler\n",
    "\n",
    "# Fungsi untuk membuat fitur lag secara dinamis\n",
    "def create_lag_features(df, column_name, num_lags):\n",
    "\n",
    "    # Buat fitur lag untuk jumlah lag yang diinginkan\n",
    "    for lag in range(1, num_lags + 1):\n",
    "        df[f'{column_name}-{lag}'] = df[column_name].shift(lag)\n",
    "\n",
    "    # Hapus baris yang memiliki nilai NaN setelah pembuatan lag\n",
    "    df.dropna(inplace=True)\n",
    "\n",
    "    # Mengatur ulang kolom sehingga kolom asli berada di posisi terakhir\n",
    "    lag_columns = [f'{column_name}-{lag}' for lag in range(num_lags, 0, -1)] + [column_name]\n",
    "    df = df[lag_columns]\n",
    "\n",
    "    return df\n",
    "\n",
    "# Tentukan jumlah lag\n",
    "num_lags = 4\n",
    "\n",
    "# Membuat fitur lag dinamis\n",
    "df_lagged = create_lag_features(df, 'Harga', num_lags)\n",
    "\n",
    "# Inisialisasi scaler untuk fitur (input) dan target (output)\n",
    "scaler_features = MinMaxScaler()\n",
    "scaler_target = MinMaxScaler()\n",
    "\n",
    "# Normalisasi fitur (Harga-1, Harga-2, ..., Harga-n)\n",
    "df_features_normalized = pd.DataFrame(scaler_features.fit_transform(df_lagged.iloc[:, :-1]),\n",
    "                                      columns=df_lagged.columns[:-1],\n",
    "                                      index=df_lagged.index)\n",
    "\n",
    "# Normalisasi target (Harga)\n",
    "df_target_normalized = pd.DataFrame(scaler_target.fit_transform(df_lagged[['Harga']]),\n",
    "                                    columns=['Harga'],\n",
    "                                    index=df_lagged.index)\n",
    "\n",
    "# Gabungkan kembali dataframe yang sudah dinormalisasi\n",
    "df_normalized = pd.concat([df_features_normalized, df_target_normalized], axis=1)\n",
    "\n",
    "# Tampilkan 5 baris pertama dari dataframe yang sudah dinormalisasi\n",
    "df_normalized.head()"
   ]
  },
  {
   "cell_type": "markdown",
   "id": "d2f6b3d4",
   "metadata": {},
   "source": [
    "## Modelling\n",
    "Menjelaskan proses apa saja yang akan diproses berdasarkan data yang sudah ada.\n",
    "\n",
    "a. Pembagian Data\n",
    "Dataset dibagi menjadi dua bagian utama: data pelatihan, yang digunakan untuk melatih model, dan data pengujian, yang digunakan untuk mengevaluasi kinerja model.\n",
    "\n",
    "b. Pembangunan Model\n",
    "Pada penelitian ini, dilakukan eksperimen menggunakan tiga model ditambah dengan ensemble Bagging, yaitu JST (Jaringan Syaraf Tiruan), SVR (Support Vector Regression), dan KNN (K-Nearest Neighbors)."
   ]
  },
  {
   "cell_type": "code",
   "execution_count": 11,
   "id": "87d915a3",
   "metadata": {},
   "outputs": [
    {
     "ename": "NameError",
     "evalue": "name 'X_train' is not defined",
     "output_type": "error",
     "traceback": [
      "\u001b[1;31m---------------------------------------------------------------------------\u001b[0m",
      "\u001b[1;31mNameError\u001b[0m                                 Traceback (most recent call last)",
      "Cell \u001b[1;32mIn[11], line 31\u001b[0m\n\u001b[0;32m     22\u001b[0m bagging_model \u001b[38;5;241m=\u001b[39m BaggingRegressor(\n\u001b[0;32m     23\u001b[0m     estimator\u001b[38;5;241m=\u001b[39mbase_model,\n\u001b[0;32m     24\u001b[0m     n_estimators\u001b[38;5;241m=\u001b[39m\u001b[38;5;241m10\u001b[39m,\n\u001b[1;32m   (...)\u001b[0m\n\u001b[0;32m     27\u001b[0m     bootstrap\u001b[38;5;241m=\u001b[39m\u001b[38;5;28;01mTrue\u001b[39;00m\n\u001b[0;32m     28\u001b[0m )\n\u001b[0;32m     30\u001b[0m \u001b[38;5;66;03m# Latih model\u001b[39;00m\n\u001b[1;32m---> 31\u001b[0m bagging_model\u001b[38;5;241m.\u001b[39mfit(\u001b[43mX_train\u001b[49m, y_train)\n\u001b[0;32m     33\u001b[0m \u001b[38;5;66;03m# Prediksi pada data uji\u001b[39;00m\n\u001b[0;32m     34\u001b[0m y_pred \u001b[38;5;241m=\u001b[39m bagging_model\u001b[38;5;241m.\u001b[39mpredict(X_test)\n",
      "\u001b[1;31mNameError\u001b[0m: name 'X_train' is not defined"
     ]
    }
   ],
   "source": [
    "from sklearn.neural_network import MLPRegressor\n",
    "from sklearn.svm import SVR\n",
    "from sklearn.neighbors import KNeighborsRegressor\n",
    "from sklearn.ensemble import BaggingRegressor\n",
    "from sklearn.metrics import mean_squared_error, mean_absolute_percentage_error\n",
    "import numpy as np\n",
    "import matplotlib.pyplot as plt\n",
    "\n",
    "# List model untuk ensemble Bagging\n",
    "models = {\n",
    "    \"Neural Network (JST)\": MLPRegressor(hidden_layer_sizes=(100, 50), max_iter=500, random_state=32),\n",
    "    \"SVR\": SVR(),\n",
    "    \"KNN\": KNeighborsRegressor(n_neighbors=5)\n",
    "}\n",
    "\n",
    "# Dictionary untuk menyimpan hasil evaluasi\n",
    "results = {}\n",
    "\n",
    "# Iterasi setiap model\n",
    "for i, (name, base_model) in enumerate(models.items()):\n",
    "    # Inisialisasi Bagging Regressor\n",
    "    bagging_model = BaggingRegressor(\n",
    "        estimator=base_model,\n",
    "        n_estimators=10,\n",
    "        max_samples=0.7,\n",
    "        random_state=32,\n",
    "        bootstrap=True\n",
    "    )\n",
    "\n",
    "    # Latih model\n",
    "    bagging_model.fit(X_train, y_train)\n",
    "\n",
    "    # Prediksi pada data uji\n",
    "    y_pred = bagging_model.predict(X_test)\n",
    "\n",
    "    # Evaluasi\n",
    "    mse = mean_squared_error(y_test, y_pred)\n",
    "    rmse = np.sqrt(mse)\n",
    "    mape = mean_absolute_percentage_error(y_test, y_pred) * 100  # Dalam persen\n",
    "\n",
    "    # Simpan hasil evaluasi\n",
    "    results[name] = {\"RMSE\": rmse, \"MAPE\": mape}\n",
    "\n",
    "    # Kembalikan hasil prediksi ke skala asli\n",
    "    y_pred_original = scaler_target.inverse_transform(y_pred.reshape(-1, 1))\n",
    "    y_test_original = scaler_target.inverse_transform(y_test.values.reshape(-1, 1))\n",
    "\n",
    "    # Plot hasil prediksi\n",
    "    plt.figure(figsize=(15, 6))\n",
    "    plt.plot(y_test.index, y_test_original, label=\"Actual\", color=\"blue\")\n",
    "    plt.plot(y_test.index, y_pred_original, label=f\"Predicted ({name})\", color=\"red\")\n",
    "\n",
    "    # Tambahkan detail plot\n",
    "    plt.title(f'Actual vs Predicted Values ({name})')\n",
    "    plt.xlabel('Tanggal')\n",
    "    plt.ylabel('Harga')\n",
    "    plt.legend()\n",
    "    plt.grid(True)\n",
    "\n",
    "    # Tampilkan plot\n",
    "    plt.show()\n",
    "\n",
    "# Tampilkan hasil evaluasi\n",
    "for model, metrics in results.items():\n",
    "    print(f\"{model}:\\n  RMSE: {metrics['RMSE']:.2f}\\n  MAPE: {metrics['MAPE']:.2f}%\\n\")"
   ]
  }
 ],
 "metadata": {
  "jupytext": {
   "formats": "md:myst",
   "text_representation": {
    "extension": ".md",
    "format_name": "myst",
    "format_version": 0.13,
    "jupytext_version": "1.11.5"
   }
  },
  "kernelspec": {
   "display_name": "Python 3",
   "language": "python",
   "name": "python3"
  },
  "language_info": {
   "codemirror_mode": {
    "name": "ipython",
    "version": 3
   },
   "file_extension": ".py",
   "mimetype": "text/x-python",
   "name": "python",
   "nbconvert_exporter": "python",
   "pygments_lexer": "ipython3",
   "version": "3.10.6"
  },
  "source_map": [
   13,
   48,
   50,
   54,
   70,
   83,
   97,
   101,
   106,
   108,
   111,
   116,
   119,
   126,
   148,
   151,
   196,
   207
  ]
 },
 "nbformat": 4,
 "nbformat_minor": 5
}