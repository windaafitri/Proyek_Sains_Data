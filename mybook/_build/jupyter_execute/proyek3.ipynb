{
 "cells": [
  {
   "cell_type": "markdown",
   "id": "24e55861",
   "metadata": {},
   "source": [
    "# Laporan Proyek 3\n",
    "\n",
    "## Prediksi Saham Rigetti Computing (RGTI): Data Historis untuk Strategi Investasi Inovatif\n",
    "\n",
    "## Pendahuluan\n",
    "\n",
    "## Latar Belakang\n",
    "Quantum Computing adalah bidang yang merevolusi dunia teknologi dengan prinsip mekanika kuantum untuk pemrosesan data yang lebih cepat dan efisien. Rigetti Computing (RGTI) adalah salah satu pemain utama dalam industri ini, mengembangkan perangkat keras dan perangkat lunak berbasis teknologi hybrid quantum-classical. Sebagai perusahaan inovatif di sektor teknologi tinggi, fluktuasi harga saham Rigetti sering mencerminkan kemajuan teknologi, dinamika pasar, serta faktor global lainnya.  \n",
    "\n",
    "Fluktuasi harga saham Rigetti yang signifikan sering menjadi tantangan bagi investor dalam membuat keputusan yang tepat. Untuk menghadapi tantangan ini, model prediksi harga berbasis data historis dan kecerdasan buatan dapat membantu memberikan wawasan yang lebih mendalam. Model ini dirancang untuk memprediksi pergerakan harga saham Rigetti di masa depan, membantu investor merencanakan strategi yang lebih efektif, mengurangi risiko, dan memaksimalkan peluang keuntungan.\n",
    "\n",
    "Pengembangan model prediksi saham Rigetti menjadi penting untuk mendukung strategi investasi yang lebih terinformasi dan berbasis data. Dengan memanfaatkan data historis, proyek ini bertujuan membantu investor memahami dinamika pasar Rigetti secara lebih mendalam dan memberikan solusi praktis bagi tantangan di pasar saham teknologi tinggi, khususnya dalam sektor komputasi kuantum.\n",
    "\n",
    "## Tujuan Proyek\n",
    "Penelitian ini bertujuan untuk mengeksplorasi pemanfaatan data historis dalam memprediksi pergerakan harga saham Rigetti Computing (RGTI) guna memberikan wawasan yang lebih mendalam kepada investor dalam merancang strategi investasi yang lebih optimal. Selain itu, penelitian ini juga bertujuan untuk mengembangkan model prediksi berbasis data historis yang andal, sehingga dapat membantu investor dalam mengelola risiko serta membuat keputusan investasi yang lebih terarah dan strategis. Dengan demikian, penelitian ini diharapkan mampu memberikan solusi praktis untuk mendukung pengambilan keputusan yang lebih baik di pasar saham teknologi tinggi, khususnya di sektor komputasi kuantum.\n",
    "\n",
    "## Rumusan Masalah\n",
    "Bagaimana data historis dapat dimanfaatkan untuk memprediksi pergerakan harga saham Rigetti Computing (RGTI) dan memberikan wawasan yang lebih mendalam kepada investor dalam merancang strategi investasi yang lebih optimal? Selain itu, bagaimana analisis data historis dapat menghasilkan model prediktif yang akurat untuk membantu investor mengatasi volatilitas harga saham serta membuat keputusan investasi yang lebih berbasis data dan terinformasi?\n",
    "\n",
    "## Metodologi\n",
    "\n",
    "## Data Understanding\n",
    "a. Sumber Data \n",
    "Data yang digunakan dalam proyek ini berasal dari platform Yahoo Finance, yang menyediakan informasi historis terkait harga berbagai aset keuangan, termasuk saham teknologi tinggi. Yahoo Finance merupakan sumber data terpercaya yang sering digunakan oleh investor dan analis untuk mengakses data harga, volume perdagangan, dan indikator pasar lainnya. Dalam proyek ini, digunakan data historis harga saham Rigetti Computing (RGTI) dari tahun 2022 hingga 2024 dengan frekuensi harian. Data ini mencakup informasi seperti harga pembukaan (open), harga tertinggi (high), harga terendah (low), harga penutupan (close), serta volume perdagangan. Data ini dimanfaatkan untuk mendukung analisis dan pengembangan model prediksi harga saham Rigetti yang akurat dan berbasis data."
   ]
  },
  {
   "cell_type": "code",
   "execution_count": 1,
   "id": "ad9eb543",
   "metadata": {},
   "outputs": [],
   "source": [
    "# import library\n",
    "import pandas as pd"
   ]
  },
  {
   "cell_type": "markdown",
   "id": "cd5df4a9",
   "metadata": {},
   "source": [
    "With MyST Markdown, you can define code cells with a directive like so:"
   ]
  },
  {
   "cell_type": "code",
   "execution_count": 2,
   "id": "9f70e240",
   "metadata": {},
   "outputs": [
    {
     "name": "stdout",
     "output_type": "stream",
     "text": [
      "            Open   High    Low  Close  Adj Close   Volume\n",
      "Date                                                     \n",
      "2022-12-06  1.12  1.150  1.040  1.050      1.050   862000\n",
      "2022-12-07  1.05  1.075  0.995  1.000      1.000  1124600\n",
      "2022-12-08  1.07  1.080  1.000  1.020      1.020   815800\n",
      "2022-12-09  1.02  1.040  0.990  0.991      0.991   669900\n",
      "2022-12-12  1.00  1.010  0.950  0.964      0.964  1228600\n"
     ]
    }
   ],
   "source": [
    "# Membaca data CSV\n",
    "# Membaca data\n",
    "df = pd.read_csv('https://raw.githubusercontent.com/windaafitri/dataset/refs/heads/main/Rigetti.csv')\n",
    "\n",
    "# Mengubah kolom 'Tanggal' menjadi format datetime\n",
    "df['Date'] = pd.to_datetime(df['Date'])\n",
    "\n",
    "# Mengatur kolom 'Date' sebagai indeks\n",
    "df.set_index('Date', inplace=True)\n",
    "\n",
    "# Mensortir data berdasarkan tanggal\n",
    "df = df.sort_values(by='Date')\n",
    "print(df.head())"
   ]
  },
  {
   "cell_type": "markdown",
   "id": "13290ccb",
   "metadata": {},
   "source": [
    "b. Deskripsi Dataset\n",
    "Dataset ini terdiri dari 6 fitur atau kolom dan 755 record atau baris. Atribut dalam dataset ini meliputi:  \n",
    "\n",
    "1. Date: Kolom ini mencatat tanggal setiap data harga. Formatnya adalah YYYY-MM-DD (tahun-bulan-hari), yang mencakup data harian dari 1 Januari 2022 hingga 31 Desember 2024.  \n",
    "   \n",
    "2. Open: Harga pembukaan saham Rigetti Computing (RGTI) pada awal hari perdagangan. Nilai ini menunjukkan harga pertama yang tercatat ketika pasar mulai aktif pada hari tersebut.  \n",
    "   \n",
    "3. High: Harga tertinggi yang dicapai oleh saham Rigetti Computing (RGTI) selama hari perdagangan. Nilai ini menunjukkan level maksimum yang dicapai oleh saham pada hari tersebut.  \n",
    "   \n",
    "4. Low: Harga terendah yang dicapai oleh saham Rigetti Computing (RGTI) selama hari perdagangan. Nilai ini menunjukkan level minimum yang dicapai oleh saham pada hari tersebut.  \n",
    "   \n",
    "5. Close: Harga penutupan saham Rigetti Computing (RGTI) pada akhir hari perdagangan. Nilai ini adalah harga terakhir yang tercatat sebelum pasar tutup.  \n",
    "   \n",
    "6. Adj Close: Harga penutupan yang telah disesuaikan untuk faktor-faktor tertentu, seperti aksi korporasi atau pembagian dividen. Dalam kasus saham Rigetti Computing, nilai ini biasanya sama dengan harga penutupan kecuali ada penyesuaian khusus.  \n",
    "   \n",
    "7. Volume: Jumlah total saham Rigetti Computing (RGTI) yang diperdagangkan selama hari tersebut. Volume menunjukkan tingkat aktivitas perdagangan dan dapat digunakan untuk mengukur minat pasar pada saham tersebut.  \n",
    "\n",
    "Data ini diambil untuk mendukung analisis dan pengembangan model prediksi harga saham Rigetti yang berbasis data dan akurat. Dataset ini mencakup informasi penting yang relevan untuk memahami dinamika harga saham dalam jangka waktu 2022 hingga 2024."
   ]
  },
  {
   "cell_type": "code",
   "execution_count": 3,
   "id": "1afaf3d2",
   "metadata": {},
   "outputs": [
    {
     "name": "stdout",
     "output_type": "stream",
     "text": [
      "<class 'pandas.core.frame.DataFrame'>\n",
      "DatetimeIndex: 503 entries, 2022-12-06 to 2024-12-05\n",
      "Data columns (total 6 columns):\n",
      " #   Column     Non-Null Count  Dtype  \n",
      "---  ------     --------------  -----  \n",
      " 0   Open       503 non-null    float64\n",
      " 1   High       503 non-null    float64\n",
      " 2   Low        503 non-null    float64\n",
      " 3   Close      503 non-null    float64\n",
      " 4   Adj Close  503 non-null    float64\n",
      " 5   Volume     503 non-null    int64  \n",
      "dtypes: float64(5), int64(1)\n",
      "memory usage: 27.5 KB\n",
      "Ukuran data  (503, 6)\n"
     ]
    }
   ],
   "source": [
    "df.info()\n",
    "print('Ukuran data ', df.shape)"
   ]
  },
  {
   "cell_type": "code",
   "execution_count": 4,
   "id": "2989c214",
   "metadata": {},
   "outputs": [
    {
     "data": {
      "text/plain": [
       "Open         float64\n",
       "High         float64\n",
       "Low          float64\n",
       "Close        float64\n",
       "Adj Close    float64\n",
       "Volume         int64\n",
       "dtype: object"
      ]
     },
     "execution_count": 4,
     "metadata": {},
     "output_type": "execute_result"
    }
   ],
   "source": [
    "df.dtypes"
   ]
  },
  {
   "cell_type": "markdown",
   "id": "b195e2d3",
   "metadata": {},
   "source": [
    "Jenis Data\n",
    "\n",
    "1. Open: Data numerik (kontinu), menunjukkan harga pembukaan saham Rigetti Computing (RGTI) pada awal hari perdagangan. Nilainya berupa pecahan desimal untuk mencerminkan perubahan harga dengan presisi tinggi.  \n",
    "\n",
    "2. High: Data numerik (kontinu), mencatat harga tertinggi yang dicapai saham Rigetti Computing (RGTI) selama hari perdagangan. Nilai ini kontinu karena dapat memiliki pecahan desimal.  \n",
    "\n",
    "3. Low: Data numerik (kontinu), menunjukkan harga terendah yang dicapai saham Rigetti Computing (RGTI) selama hari perdagangan. Data ini bersifat kontinu karena dapat memiliki pecahan desimal.  \n",
    "\n",
    "4. Close: Data numerik (kontinu), menunjukkan harga penutupan saham Rigetti Computing (RGTI) pada akhir hari perdagangan. Nilainya kontinu dan penting untuk analisis pergerakan harga harian.  \n",
    "\n",
    "5. Adj Close: Data numerik (kontinu), menunjukkan harga penutupan yang telah disesuaikan untuk mencerminkan peristiwa seperti pembagian dividen atau aksi korporasi lainnya. Data ini penting untuk analisis historis yang lebih akurat.  \n",
    "\n",
    "6. Volume: Data numerik (diskrit), menunjukkan jumlah unit saham Rigetti Computing (RGTI) yang diperdagangkan selama hari tersebut. Karena volume dihitung dalam bilangan bulat (jumlah unit saham), data ini bersifat diskrit.  \n",
    "\n",
    "Fitur-fitur ini mencakup informasi penting untuk memahami dinamika harga saham Rigetti Computing dari data historis, dengan karakteristik yang dapat mendukung analisis dan pengembangan model prediksi berbasis data yang akurat.\n",
    "\n",
    "## Eksplorasi"
   ]
  },
  {
   "cell_type": "code",
   "execution_count": 5,
   "id": "96657e77",
   "metadata": {},
   "outputs": [
    {
     "data": {
      "text/plain": [
       "Open         0\n",
       "High         0\n",
       "Low          0\n",
       "Close        0\n",
       "Adj Close    0\n",
       "Volume       0\n",
       "dtype: int64"
      ]
     },
     "execution_count": 5,
     "metadata": {},
     "output_type": "execute_result"
    }
   ],
   "source": [
    "# Mencari Missing Value\n",
    "df.isnull().sum()"
   ]
  },
  {
   "cell_type": "code",
   "execution_count": 6,
   "id": "f760a9e8",
   "metadata": {},
   "outputs": [
    {
     "data": {
      "text/html": [
       "<div>\n",
       "<style scoped>\n",
       "    .dataframe tbody tr th:only-of-type {\n",
       "        vertical-align: middle;\n",
       "    }\n",
       "\n",
       "    .dataframe tbody tr th {\n",
       "        vertical-align: top;\n",
       "    }\n",
       "\n",
       "    .dataframe thead th {\n",
       "        text-align: right;\n",
       "    }\n",
       "</style>\n",
       "<table border=\"1\" class=\"dataframe\">\n",
       "  <thead>\n",
       "    <tr style=\"text-align: right;\">\n",
       "      <th></th>\n",
       "      <th>Open</th>\n",
       "      <th>High</th>\n",
       "      <th>Low</th>\n",
       "      <th>Close</th>\n",
       "      <th>Adj Close</th>\n",
       "      <th>Volume</th>\n",
       "    </tr>\n",
       "  </thead>\n",
       "  <tbody>\n",
       "    <tr>\n",
       "      <th>count</th>\n",
       "      <td>503.000000</td>\n",
       "      <td>503.000000</td>\n",
       "      <td>503.000000</td>\n",
       "      <td>503.000000</td>\n",
       "      <td>503.000000</td>\n",
       "      <td>5.030000e+02</td>\n",
       "    </tr>\n",
       "    <tr>\n",
       "      <th>mean</th>\n",
       "      <td>1.188958</td>\n",
       "      <td>1.261109</td>\n",
       "      <td>1.114583</td>\n",
       "      <td>1.179278</td>\n",
       "      <td>1.179278</td>\n",
       "      <td>6.646079e+06</td>\n",
       "    </tr>\n",
       "    <tr>\n",
       "      <th>std</th>\n",
       "      <td>0.491230</td>\n",
       "      <td>0.544913</td>\n",
       "      <td>0.442536</td>\n",
       "      <td>0.490800</td>\n",
       "      <td>0.490800</td>\n",
       "      <td>1.777447e+07</td>\n",
       "    </tr>\n",
       "    <tr>\n",
       "      <th>min</th>\n",
       "      <td>0.369000</td>\n",
       "      <td>0.395000</td>\n",
       "      <td>0.360000</td>\n",
       "      <td>0.375000</td>\n",
       "      <td>0.375000</td>\n",
       "      <td>2.863000e+05</td>\n",
       "    </tr>\n",
       "    <tr>\n",
       "      <th>25%</th>\n",
       "      <td>0.870000</td>\n",
       "      <td>0.916000</td>\n",
       "      <td>0.820000</td>\n",
       "      <td>0.857000</td>\n",
       "      <td>0.857000</td>\n",
       "      <td>1.608000e+06</td>\n",
       "    </tr>\n",
       "    <tr>\n",
       "      <th>50%</th>\n",
       "      <td>1.080000</td>\n",
       "      <td>1.130000</td>\n",
       "      <td>1.030000</td>\n",
       "      <td>1.060000</td>\n",
       "      <td>1.060000</td>\n",
       "      <td>3.126200e+06</td>\n",
       "    </tr>\n",
       "    <tr>\n",
       "      <th>75%</th>\n",
       "      <td>1.360000</td>\n",
       "      <td>1.445000</td>\n",
       "      <td>1.290000</td>\n",
       "      <td>1.365000</td>\n",
       "      <td>1.365000</td>\n",
       "      <td>6.071550e+06</td>\n",
       "    </tr>\n",
       "    <tr>\n",
       "      <th>max</th>\n",
       "      <td>3.520000</td>\n",
       "      <td>3.660000</td>\n",
       "      <td>2.950000</td>\n",
       "      <td>3.250000</td>\n",
       "      <td>3.250000</td>\n",
       "      <td>2.742158e+08</td>\n",
       "    </tr>\n",
       "  </tbody>\n",
       "</table>\n",
       "</div>"
      ],
      "text/plain": [
       "             Open        High         Low       Close   Adj Close  \\\n",
       "count  503.000000  503.000000  503.000000  503.000000  503.000000   \n",
       "mean     1.188958    1.261109    1.114583    1.179278    1.179278   \n",
       "std      0.491230    0.544913    0.442536    0.490800    0.490800   \n",
       "min      0.369000    0.395000    0.360000    0.375000    0.375000   \n",
       "25%      0.870000    0.916000    0.820000    0.857000    0.857000   \n",
       "50%      1.080000    1.130000    1.030000    1.060000    1.060000   \n",
       "75%      1.360000    1.445000    1.290000    1.365000    1.365000   \n",
       "max      3.520000    3.660000    2.950000    3.250000    3.250000   \n",
       "\n",
       "             Volume  \n",
       "count  5.030000e+02  \n",
       "mean   6.646079e+06  \n",
       "std    1.777447e+07  \n",
       "min    2.863000e+05  \n",
       "25%    1.608000e+06  \n",
       "50%    3.126200e+06  \n",
       "75%    6.071550e+06  \n",
       "max    2.742158e+08  "
      ]
     },
     "execution_count": 6,
     "metadata": {},
     "output_type": "execute_result"
    }
   ],
   "source": [
    "# Deskripsi Statistik\n",
    "df.describe()"
   ]
  },
  {
   "cell_type": "markdown",
   "id": "900a0a94",
   "metadata": {},
   "source": [
    "- count: Menghitung jumlah entri valid (tidak kosong) dalam kolom.  \n",
    "- mean: Menghitung rata-rata dari seluruh nilai dalam kolom.  \n",
    "- std: Mengukur standar deviasi, yang menunjukkan seberapa jauh nilai-nilai dalam kolom menyebar dari rata-rata.  \n",
    "- min: Menampilkan nilai terkecil dalam kolom.  \n",
    "- 25%: Kuartil pertama, menunjukkan bahwa 25% data memiliki nilai lebih kecil atau sama dengan nilai ini.  \n",
    "- 50% (Median): Kuartil kedua, menunjukkan nilai tengah—setengah dari data berada di bawah dan setengah lainnya di atas nilai ini.  \n",
    "- 75%: Kuartil ketiga, menunjukkan bahwa 75% data memiliki nilai lebih kecil atau sama dengan nilai ini.  \n",
    "- max: Menampilkan nilai terbesar dalam kolom. \n",
    "\n",
    "## Tren Setiap Fitur\n",
    "Berikutnya, untuk menganalisis dinamika harga saham Rigetti Computing (RGTI), akan dilakukan visualisasi tren dari setiap fitur dalam data historis. Visualisasi ini mencakup pola pergerakan harga pembukaan (Open), harga tertinggi (High), harga terendah (Low), harga penutupan (Close), serta volume perdagangan (Volume) sepanjang waktu. Analisis ini bertujuan untuk mengidentifikasi pola pergerakan harga saham Rigetti selama periode tertentu dan memberikan wawasan yang lebih mendalam untuk mendukung pengambilan keputusan investasi."
   ]
  },
  {
   "cell_type": "code",
   "execution_count": 7,
   "id": "a58909a0",
   "metadata": {},
   "outputs": [
    {
     "data": {
      "image/png": "[encoded data removed]",
      "text/plain": [
       "<Figure size 900x600 with 6 Axes>"
      ]
     },
     "metadata": {},
     "output_type": "display_data"
    }
   ],
   "source": [
    "import matplotlib.pyplot as plt\n",
    "import seaborn as sns\n",
    "import numpy as np  # Tambahkan ini untuk memperbaiki error\n",
    "\n",
    "# Membuat subplot otomatis berdasarkan jumlah kolom dalam dataframe\n",
    "plt.figure(figsize=(9, int(np.ceil(len(df.columns) / 3))*3))\n",
    "\n",
    "for i, col in enumerate(df.columns):\n",
    "    plt.subplot(int(np.ceil(len(df.columns) / 3)), 3, i + 1)\n",
    "    sns.lineplot(data=df, x='Date', y=col)\n",
    "    plt.title(f'Trend of {col}')\n",
    "    plt.xticks(rotation=45)\n",
    "\n",
    "plt.tight_layout()\n",
    "plt.show()"
   ]
  },
  {
   "cell_type": "markdown",
   "id": "a9b02b6c",
   "metadata": {},
   "source": [
    "## Korelasi Antar Fitur\n",
    "Korelasi antar fitur dalam data historis harga saham Rigetti Computing (RGTI) mengacu pada hubungan atau keterkaitan antara dua atau lebih variabel dalam dataset. Dalam konteks ini, fitur-fitur seperti harga pembukaan (Open), harga tertinggi (High), harga terendah (Low), harga penutupan (Close), dan volume perdagangan (Volume) dapat memiliki pengaruh satu sama lain. Melakukan analisis korelasi memungkinkan kita untuk memahami sejauh mana perubahan pada satu fitur terkait dengan perubahan pada fitur lainnya."
   ]
  },
  {
   "cell_type": "code",
   "execution_count": 8,
   "id": "8809f889",
   "metadata": {},
   "outputs": [
    {
     "data": {
      "image/png": "[encoded data removed]",
      "text/plain": [
       "<Figure size 700x300 with 2 Axes>"
      ]
     },
     "metadata": {},
     "output_type": "display_data"
    }
   ],
   "source": [
    "correlation_matrix = df.corr()\n",
    "\n",
    "plt.figure(figsize=(7, 3))\n",
    "sns.heatmap(correlation_matrix, annot=True, cmap='coolwarm', linewidths=0.5)\n",
    "plt.title('Heatmap Korelasi Antar Fitur')\n",
    "plt.show()"
   ]
  },
  {
   "cell_type": "markdown",
   "id": "f1273534",
   "metadata": {},
   "source": [
    "## Preprocessing Data\n",
    "\n",
    "## Menghapus Fitur yang Tidak Relevan\n",
    "Pada tahap perhitungan matriks korelasi, terdeteksi bahwa fitur ‘volume’ tidak memiliki relevansi atau pengaruh terhadap fitur lainnya, sehingga fitur tersebut akan dihapus. Selain itu, fitur ‘Adj Close’ juga dihilangkan karena nilainya identik dengan fitur ‘Close’."
   ]
  },
  {
   "cell_type": "code",
   "execution_count": 9,
   "id": "3b46cb79",
   "metadata": {},
   "outputs": [
    {
     "data": {
      "text/html": [
       "<div>\n",
       "<style scoped>\n",
       "    .dataframe tbody tr th:only-of-type {\n",
       "        vertical-align: middle;\n",
       "    }\n",
       "\n",
       "    .dataframe tbody tr th {\n",
       "        vertical-align: top;\n",
       "    }\n",
       "\n",
       "    .dataframe thead th {\n",
       "        text-align: right;\n",
       "    }\n",
       "</style>\n",
       "<table border=\"1\" class=\"dataframe\">\n",
       "  <thead>\n",
       "    <tr style=\"text-align: right;\">\n",
       "      <th></th>\n",
       "      <th>Open</th>\n",
       "      <th>High</th>\n",
       "      <th>Low</th>\n",
       "      <th>Close</th>\n",
       "    </tr>\n",
       "    <tr>\n",
       "      <th>Date</th>\n",
       "      <th></th>\n",
       "      <th></th>\n",
       "      <th></th>\n",
       "      <th></th>\n",
       "    </tr>\n",
       "  </thead>\n",
       "  <tbody>\n",
       "    <tr>\n",
       "      <th>2022-12-06</th>\n",
       "      <td>1.12</td>\n",
       "      <td>1.150</td>\n",
       "      <td>1.040</td>\n",
       "      <td>1.050</td>\n",
       "    </tr>\n",
       "    <tr>\n",
       "      <th>2022-12-07</th>\n",
       "      <td>1.05</td>\n",
       "      <td>1.075</td>\n",
       "      <td>0.995</td>\n",
       "      <td>1.000</td>\n",
       "    </tr>\n",
       "    <tr>\n",
       "      <th>2022-12-08</th>\n",
       "      <td>1.07</td>\n",
       "      <td>1.080</td>\n",
       "      <td>1.000</td>\n",
       "      <td>1.020</td>\n",
       "    </tr>\n",
       "    <tr>\n",
       "      <th>2022-12-09</th>\n",
       "      <td>1.02</td>\n",
       "      <td>1.040</td>\n",
       "      <td>0.990</td>\n",
       "      <td>0.991</td>\n",
       "    </tr>\n",
       "    <tr>\n",
       "      <th>2022-12-12</th>\n",
       "      <td>1.00</td>\n",
       "      <td>1.010</td>\n",
       "      <td>0.950</td>\n",
       "      <td>0.964</td>\n",
       "    </tr>\n",
       "  </tbody>\n",
       "</table>\n",
       "</div>"
      ],
      "text/plain": [
       "            Open   High    Low  Close\n",
       "Date                                 \n",
       "2022-12-06  1.12  1.150  1.040  1.050\n",
       "2022-12-07  1.05  1.075  0.995  1.000\n",
       "2022-12-08  1.07  1.080  1.000  1.020\n",
       "2022-12-09  1.02  1.040  0.990  0.991\n",
       "2022-12-12  1.00  1.010  0.950  0.964"
      ]
     },
     "execution_count": 9,
     "metadata": {},
     "output_type": "execute_result"
    }
   ],
   "source": [
    "# Menghapus kolom yang tidak digunakan\n",
    "df = df.drop(columns=['Volume', 'Adj Close'])\n",
    "df.head()"
   ]
  },
  {
   "cell_type": "markdown",
   "id": "afbe3bcf",
   "metadata": {},
   "source": [
    "## Rekayasa Fitur\n",
    "Penelitian ini bertujuan untuk memprediksi harga saham Rigetti Computing pada hari berikutnya. Untuk itu, diperlukan variabel baru yang akan menjadi target prediksi. Fitur ini memberikan indikasi tentang potensi penurunan harga, yang dapat dimanfaatkan oleh investor untuk membeli saham pada harga yang lebih rendah, sehingga meningkatkan kemungkinan memperoleh keuntungan ketika harga saham Rigetti mengalami kenaikan kembali."
   ]
  },
  {
   "cell_type": "code",
   "execution_count": 10,
   "id": "bbfeb8c4",
   "metadata": {},
   "outputs": [
    {
     "data": {
      "text/html": [
       "<div>\n",
       "<style scoped>\n",
       "    .dataframe tbody tr th:only-of-type {\n",
       "        vertical-align: middle;\n",
       "    }\n",
       "\n",
       "    .dataframe tbody tr th {\n",
       "        vertical-align: top;\n",
       "    }\n",
       "\n",
       "    .dataframe thead th {\n",
       "        text-align: right;\n",
       "    }\n",
       "</style>\n",
       "<table border=\"1\" class=\"dataframe\">\n",
       "  <thead>\n",
       "    <tr style=\"text-align: right;\">\n",
       "      <th></th>\n",
       "      <th>Open</th>\n",
       "      <th>High</th>\n",
       "      <th>Low</th>\n",
       "      <th>Close</th>\n",
       "      <th>Close Target</th>\n",
       "    </tr>\n",
       "    <tr>\n",
       "      <th>Date</th>\n",
       "      <th></th>\n",
       "      <th></th>\n",
       "      <th></th>\n",
       "      <th></th>\n",
       "      <th></th>\n",
       "    </tr>\n",
       "  </thead>\n",
       "  <tbody>\n",
       "    <tr>\n",
       "      <th>2022-12-06</th>\n",
       "      <td>1.12</td>\n",
       "      <td>1.150</td>\n",
       "      <td>1.040</td>\n",
       "      <td>1.050</td>\n",
       "      <td>1.000</td>\n",
       "    </tr>\n",
       "    <tr>\n",
       "      <th>2022-12-07</th>\n",
       "      <td>1.05</td>\n",
       "      <td>1.075</td>\n",
       "      <td>0.995</td>\n",
       "      <td>1.000</td>\n",
       "      <td>1.020</td>\n",
       "    </tr>\n",
       "    <tr>\n",
       "      <th>2022-12-08</th>\n",
       "      <td>1.07</td>\n",
       "      <td>1.080</td>\n",
       "      <td>1.000</td>\n",
       "      <td>1.020</td>\n",
       "      <td>0.991</td>\n",
       "    </tr>\n",
       "    <tr>\n",
       "      <th>2022-12-09</th>\n",
       "      <td>1.02</td>\n",
       "      <td>1.040</td>\n",
       "      <td>0.990</td>\n",
       "      <td>0.991</td>\n",
       "      <td>0.964</td>\n",
       "    </tr>\n",
       "    <tr>\n",
       "      <th>2022-12-12</th>\n",
       "      <td>1.00</td>\n",
       "      <td>1.010</td>\n",
       "      <td>0.950</td>\n",
       "      <td>0.964</td>\n",
       "      <td>0.969</td>\n",
       "    </tr>\n",
       "  </tbody>\n",
       "</table>\n",
       "</div>"
      ],
      "text/plain": [
       "            Open   High    Low  Close  Close Target\n",
       "Date                                               \n",
       "2022-12-06  1.12  1.150  1.040  1.050         1.000\n",
       "2022-12-07  1.05  1.075  0.995  1.000         1.020\n",
       "2022-12-08  1.07  1.080  1.000  1.020         0.991\n",
       "2022-12-09  1.02  1.040  0.990  0.991         0.964\n",
       "2022-12-12  1.00  1.010  0.950  0.964         0.969"
      ]
     },
     "execution_count": 10,
     "metadata": {},
     "output_type": "execute_result"
    }
   ],
   "source": [
    "df['Close Target'] = df['Close'].shift(-1)\n",
    "\n",
    "df = df[:-1]\n",
    "df.head()"
   ]
  },
  {
   "cell_type": "code",
   "execution_count": 11,
   "id": "256b9d2c",
   "metadata": {},
   "outputs": [
    {
     "ename": "NameError",
     "evalue": "name 'FORECAST_STEPS' is not defined",
     "output_type": "error",
     "traceback": [
      "\u001b[1;31m---------------------------------------------------------------------------\u001b[0m",
      "\u001b[1;31mNameError\u001b[0m                                 Traceback (most recent call last)",
      "Cell \u001b[1;32mIn[11], line 2\u001b[0m\n\u001b[0;32m      1\u001b[0m \u001b[38;5;66;03m# Membuat target untuk n langkah ke depan\u001b[39;00m\n\u001b[1;32m----> 2\u001b[0m \u001b[38;5;28;01mfor\u001b[39;00m i \u001b[38;5;129;01min\u001b[39;00m \u001b[38;5;28mrange\u001b[39m(\u001b[38;5;241m1\u001b[39m, \u001b[43mFORECAST_STEPS\u001b[49m \u001b[38;5;241m+\u001b[39m \u001b[38;5;241m1\u001b[39m):\n\u001b[0;32m      3\u001b[0m     df[\u001b[38;5;124mf\u001b[39m\u001b[38;5;124m'\u001b[39m\u001b[38;5;124mClose Target+\u001b[39m\u001b[38;5;132;01m{\u001b[39;00mi\u001b[38;5;132;01m}\u001b[39;00m\u001b[38;5;124m'\u001b[39m] \u001b[38;5;241m=\u001b[39m df[\u001b[38;5;124m'\u001b[39m\u001b[38;5;124mClose\u001b[39m\u001b[38;5;124m'\u001b[39m]\u001b[38;5;241m.\u001b[39mshift(\u001b[38;5;241m-\u001b[39mi)\n\u001b[0;32m      5\u001b[0m \u001b[38;5;66;03m# Menghapus baris yang memiliki nilai NaN pada target\u001b[39;00m\n",
      "\u001b[1;31mNameError\u001b[0m: name 'FORECAST_STEPS' is not defined"
     ]
    }
   ],
   "source": [
    "# Membuat target untuk n langkah ke depan\n",
    "for i in range(1, FORECAST_STEPS + 1):\n",
    "    df[f'Close Target+{i}'] = df['Close'].shift(-i)\n",
    "\n",
    "# Menghapus baris yang memiliki nilai NaN pada target\n",
    "df = df[:-FORECAST_STEPS]"
   ]
  },
  {
   "cell_type": "markdown",
   "id": "c8def68a",
   "metadata": {},
   "source": [
    "## Forecasting\n",
    "Pada tahap ini, parameter FORECAST_STEPS digunakan untuk menentukan jumlah periode atau langkah waktu yang akan diprediksi dalam metode peramalan multi-langkah. Nilainya diatur menjadi 4, yang berarti model akan memproyeksikan nilai target untuk 4 hari atau periode mendatang. Parameter ini dapat disesuaikan sesuai dengan kebutuhan analisis atau tujuan prediksi. Dalam pendekatan Iterative Multi-Step Forecasting, setiap prediksi yang dihasilkan akan digunakan sebagai input untuk prediksi berikutnya. Proses dimulai dengan memprediksi langkah pertama, lalu hasilnya menjadi input untuk langkah kedua, dan seterusnya hingga jumlah langkah yang telah ditentukan oleh FORECAST_STEPS tercapai. Pendekatan ini memungkinkan prediksi bertahap untuk beberapa periode ke depan."
   ]
  },
  {
   "cell_type": "code",
   "execution_count": null,
   "id": "eb222350",
   "metadata": {},
   "outputs": [],
   "source": [
    "# Parameter untuk Multi-Step Forecasting\n",
    "FORECAST_STEPS = 5  # Jumlah langkah ke depan yang ingin diprediksi"
   ]
  },
  {
   "cell_type": "code",
   "execution_count": null,
   "id": "675655bd",
   "metadata": {},
   "outputs": [],
   "source": [
    "# Membuat target untuk n langkah ke depan\n",
    "for i in range(1, FORECAST_STEPS + 1):\n",
    "    df[f'Close Target+{i}'] = df['Close'].shift(-i)\n",
    "\n",
    "# Menghapus baris yang memiliki nilai NaN pada target\n",
    "df = df[:-FORECAST_STEPS]"
   ]
  },
  {
   "cell_type": "markdown",
   "id": "718af31a",
   "metadata": {},
   "source": [
    "## Normalisasi Data"
   ]
  },
  {
   "cell_type": "code",
   "execution_count": null,
   "id": "549ca2e3",
   "metadata": {},
   "outputs": [],
   "source": [
    "# Import library yang dibutuhkan\n",
    "# Import library yang dibutuhkan\n",
    "from sklearn.preprocessing import MinMaxScaler\n",
    "import pandas as pd\n",
    "\n",
    "# Inisialisasi scaler untuk fitur dan target\n",
    "scaler_features = MinMaxScaler()\n",
    "scaler_target = MinMaxScaler()\n",
    "\n",
    "# Normalisasi fitur\n",
    "features = ['Open', 'High', 'Low', 'Close']\n",
    "df_features_normalized = pd.DataFrame(\n",
    "    scaler_features.fit_transform(df[features]),\n",
    "    columns=features,\n",
    "    index=df.index\n",
    ")\n",
    "\n",
    "# Normalisasi target\n",
    "target_columns = [f'Close Target+{i}' for i in range(1, FORECAST_STEPS + 1)]\n",
    "df_target_normalized = pd.DataFrame(\n",
    "    scaler_target.fit_transform(df[target_columns]),\n",
    "    columns=target_columns,\n",
    "    index=df.index\n",
    ")\n",
    "\n",
    "# Menggabungkan kembali dataframe yang sudah dinormalisasi\n",
    "df_normalized = pd.concat([df_features_normalized, df_target_normalized], axis=1)"
   ]
  },
  {
   "cell_type": "markdown",
   "id": "fd143445",
   "metadata": {},
   "source": [
    "## Modelling\n",
    "Menjelaskan proses apa saja yang akan diproses berdasarkan data yang sudah ada.\n",
    "\n",
    "a. Pembagian Data\n",
    "Selanjutnya, data dibagi menjadi data training dan data testing menggunakan fungsi train_test_split, dengan 80% data untuk training dan 20% untuk testing. Proses ini dilakukan dengan opsi shuffle=False agar urutan data tetap terjaga sesuai dengan urutan aslinya. Setelah pembagian, data training (X_train dan y_train) digunakan untuk melatih model, sementara data testing (X_test dan y_test) digunakan untuk mengevaluasi kinerja model yang telah dilatih."
   ]
  },
  {
   "cell_type": "code",
   "execution_count": null,
   "id": "c2409006",
   "metadata": {},
   "outputs": [],
   "source": [
    "from sklearn.model_selection import train_test_split  # Tambahkan ini\n",
    "\n",
    "# Mengatur fitur (X) dan target (y)\n",
    "X = df_normalized[features]\n",
    "y = df_normalized[target_columns]\n",
    "\n",
    "# Membagi data menjadi training dan testing\n",
    "X_train, X_test, y_train, y_test = train_test_split(X, y, test_size=0.4, shuffle=False)"
   ]
  },
  {
   "cell_type": "markdown",
   "id": "d9b93f17",
   "metadata": {},
   "source": [
    "b. Pembangunan Model\n",
    "Pada tahap ini, dilakukan eksperimen dengan menggunakan tiga model utama, yaitu Jaringan Saraf Tiruan (JST), Decision Tree, dan kombinasi SVR dengan Decision Tree. Selain itu, untuk meningkatkan akurasi dan kinerja model, diterapkan teknik ensemble melalui metode bagging."
   ]
  },
  {
   "cell_type": "code",
   "execution_count": null,
   "id": "260b8669",
   "metadata": {},
   "outputs": [],
   "source": [
    "from sklearn.neural_network import MLPRegressor\n",
    "from sklearn.tree import DecisionTreeRegressor\n",
    "from sklearn.svm import SVR\n",
    "from sklearn.multioutput import MultiOutputRegressor\n",
    "from sklearn.metrics import mean_squared_error, mean_absolute_percentage_error\n",
    "import numpy as np\n",
    "import matplotlib.pyplot as plt\n",
    "\n",
    "# Model regresi\n",
    "models = {\n",
    "    \"Jaringan Syaraf Tiruan\": MultiOutputRegressor(MLPRegressor(hidden_layer_sizes=(100,), max_iter=1000, random_state=32)),\n",
    "    \"Decision Tree\": DecisionTreeRegressor(random_state=32),\n",
    "    \"SVR\": MultiOutputRegressor(SVR(kernel='rbf', C=100, gamma=0.1, epsilon=0.1))\n",
    "}\n",
    "\n",
    "# Dictionary untuk menyimpan hasil evaluasi\n",
    "results = {}\n",
    "\n",
    "# Iterasi setiap model\n",
    "for name, model in models.items():\n",
    "    # Latih model\n",
    "    model.fit(X_train, y_train)\n",
    "\n",
    "    # Prediksi pada data uji\n",
    "    y_pred = model.predict(X_test)\n",
    "\n",
    "    # Evaluasi untuk setiap target hari ke depan\n",
    "    mse_list = []\n",
    "    mape_list = []\n",
    "    for i in range(FORECAST_STEPS):\n",
    "        mse = mean_squared_error(y_test.iloc[:, i], y_pred[:, i])\n",
    "        mape = mean_absolute_percentage_error(y_test.iloc[:, i], y_pred[:, i]) * 100\n",
    "        mse_list.append(mse)\n",
    "        mape_list.append(mape)\n",
    "\n",
    "    # Simpan hasil evaluasi rata-rata\n",
    "    results[name] = {\n",
    "        \"Average RMSE\": np.sqrt(np.mean(mse_list)),\n",
    "        \"Average MAPE\": np.mean(mape_list)\n",
    "    }\n",
    "\n",
    "    # Kembalikan hasil prediksi ke skala asli\n",
    "    y_pred_original = scaler_target.inverse_transform(y_pred)\n",
    "    y_test_original = scaler_target.inverse_transform(y_test)\n",
    "\n",
    "    # Plot hasil prediksi untuk setiap hari\n",
    "    plt.figure(figsize=(15, 6))\n",
    "    for i in range(FORECAST_STEPS):\n",
    "        plt.plot(\n",
    "            y_test.index, y_test_original[:, i], label=f\"Actual Target+{i+1}\", linestyle=\"dashed\"\n",
    "        )\n",
    "        plt.plot(\n",
    "            y_test.index, y_pred_original[:, i], label=f\"Predicted Target+{i+1}\", alpha=0.7\n",
    "        )\n",
    "\n",
    "    # Tambahkan detail plot\n",
    "    plt.title(f'Actual vs Predicted Values ({name})')\n",
    "    plt.xlabel('Tanggal')\n",
    "    plt.ylabel('Kurs')\n",
    "    plt.legend()\n",
    "    plt.grid(True)\n",
    "\n",
    "    # Tampilkan plot\n",
    "    plt.show()\n",
    "\n",
    "# Tampilkan hasil evaluasi\n",
    "print(\"HASIL EVALUASI MODEL\")\n",
    "for model, metrics in results.items():\n",
    "    print(f\"{model}:\")\n",
    "    print(f\"  Average RMSE: {metrics['Average RMSE']:.2f}\")\n",
    "    print(f\"  Average MAPE: {metrics['Average MAPE']:.2f}%\")\n",
    "\n",
    "# Cari model dengan Average MAPE terbaik (nilai terkecil)\n",
    "best_model_name = min(results, key=lambda x: results[x][\"Average MAPE\"])\n",
    "best_model = models[best_model_name]\n",
    "\n",
    "print(f\" Model terbaik ({best_model_name})\")"
   ]
  },
  {
   "cell_type": "markdown",
   "id": "091aaa6c",
   "metadata": {},
   "source": [
    "## Evaluasi\n",
    "Berdasarkan hasil evaluasi, Jaringan Syaraf Tiruan (RMSE: 0.05, MAPE: 12.74%) adalah model terbaik, dengan akurasi prediksi yang paling tinggi. SVR (RMSE: 0.05, MAPE: 14.96%) memiliki performa serupa tetapi dengan kesalahan relatif lebih besar. Decision Tree (RMSE: 0.09, MAPE: 20.70%) menunjukkan performa terburuk, dengan kesalahan yang lebih tinggi baik dalam RMSE maupun MAPE."
   ]
  }
 ],
 "metadata": {
  "jupytext": {
   "formats": "md:myst",
   "text_representation": {
    "extension": ".md",
    "format_name": "myst",
    "format_version": 0.13,
    "jupytext_version": "1.11.5"
   }
  },
  "kernelspec": {
   "display_name": "Python 3",
   "language": "python",
   "name": "python3"
  },
  "language_info": {
   "codemirror_mode": {
    "name": "ipython",
    "version": 3
   },
   "file_extension": ".py",
   "mimetype": "text/x-python",
   "name": "python",
   "nbconvert_exporter": "python",
   "pygments_lexer": "ipython3",
   "version": "3.10.6"
  },
  "source_map": [
   13,
   40,
   43,
   47,
   61,
   83,
   88,
   90,
   110,
   115,
   118,
   132,
   148,
   153,
   160,
   167,
   171,
   176,
   183,
   190,
   195,
   200,
   207,
   210,
   238,
   246,
   255,
   260,
   338
  ]
 },
 "nbformat": 4,
 "nbformat_minor": 5
}